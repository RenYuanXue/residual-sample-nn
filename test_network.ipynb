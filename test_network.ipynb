{
 "cells": [
  {
   "cell_type": "code",
   "execution_count": 1,
   "metadata": {},
   "outputs": [],
   "source": [
    "import pandas as pd\n",
    "import numpy as np\n",
    "from Class_Network import *\n",
    "import matplotlib.pylab as plt"
   ]
  },
  {
   "cell_type": "code",
   "execution_count": 62,
   "metadata": {},
   "outputs": [],
   "source": [
    "# 5 Classes in 8-Dimensional Space\n",
    "np.random.seed(15)\n",
    "noise = 0.1\n",
    "InputClasses = np.array([[1,0,1,0,0,1,1,0],\n",
    "                         [0,1,0,1,0,1,0,1],\n",
    "                         [0,1,1,0,1,0,0,1],\n",
    "                         [1,0,0,0,1,0,1,1],\n",
    "                         [1,0,0,1,0,1,0,1]], dtype=float)\n",
    "OutputClasses = np.array([[1,0,0,0,0],\n",
    "                          [0,1,0,0,0],\n",
    "                          [0,0,1,0,0],\n",
    "                          [0,0,0,1,0],\n",
    "                          [0,0,0,0,1]], dtype=float)\n",
    "n_input = np.shape(InputClasses)[1]\n",
    "n_output = np.shape(OutputClasses)[1]\n",
    "n_classes = np.shape(InputClasses)[0]\n",
    "\n",
    "# Create a training dataset\n",
    "n_samples = 100\n",
    "training_output = []\n",
    "training_input = []\n",
    "for idx in range(n_samples):\n",
    "    k = np.random.randint(n_classes)\n",
    "    x = InputClasses[k,:] + np.random.normal(size=n_input)*noise\n",
    "    t = OutputClasses[k,:]\n",
    "    training_input.append(x)\n",
    "    training_output.append(t)\n",
    "\n",
    "# Create a test dataset\n",
    "n_samples = 100\n",
    "test_output = []\n",
    "test_input = []\n",
    "for idx in range(n_samples):\n",
    "    k = np.random.randint(n_classes)\n",
    "    x = InputClasses[k,:] + np.random.normal(size=n_input)*noise\n",
    "    t = OutputClasses[k,:]\n",
    "    test_input.append(x)\n",
    "    test_output.append(t)\n",
    "\n",
    "train = [np.array(training_input), np.array(training_output)]\n",
    "test = [np.array(test_input), np.array(test_output)]"
   ]
  },
  {
   "cell_type": "code",
   "execution_count": 63,
   "metadata": {},
   "outputs": [],
   "source": [
    "net = Network([n_input, 6, n_output], type='classifier', prior_dist_weight = ['gaussian','gaussian'], prior_dist_bias = ['gaussian', 'gaussian','gaussian'])"
   ]
  },
  {
   "cell_type": "code",
   "execution_count": 64,
   "metadata": {},
   "outputs": [
    {
     "name": "stdout",
     "output_type": "stream",
     "text": [
      "Cross Entropy = 3.876276015482568\n",
      "     Accuracy = 12.0%\n"
     ]
    }
   ],
   "source": [
    "# Evaluate it before training\n",
    "CE = net.Evaluate(train[0], train[1])\n",
    "accuracy = net.ClassificationAccuracy(train[0], train[1])\n",
    "print('Cross Entropy = '+str(CE))\n",
    "print('     Accuracy = '+str(accuracy*100.)+'%')"
   ]
  },
  {
   "cell_type": "code",
   "execution_count": 65,
   "metadata": {},
   "outputs": [],
   "source": [
    "net.Learn(train[0], train[1], epochs=100, lrate=0.1, times = 100, threshold = 1, bootstrap = False, progress=True)"
   ]
  },
  {
   "cell_type": "code",
   "execution_count": 74,
   "metadata": {},
   "outputs": [
    {
     "name": "stdout",
     "output_type": "stream",
     "text": [
      "[[ 0.83114468  0.98354519 -0.91808296  0.07238599  0.67472814 -0.4647436 ]]\n",
      "[[1.57693433 1.48666143 1.52795518 1.78109057 1.64992888 1.7209116 ]]\n",
      "[[-0.06603741 -0.9762695  -0.75166824  0.99899238 -0.83326193  0.13121561]\n",
      " [-0.10626292  0.21078242  0.19633394 -0.21353558  0.98808716  0.7731277 ]\n",
      " [-0.9191998  -0.3883424   0.01565005 -0.77286706  0.5109471  -0.46208819]\n",
      " [ 0.4360465   0.16317722  0.42234268  0.56553996  0.15783595 -0.85356061]\n",
      " [-0.27826778  0.61232261  0.50795689  0.69508303  0.14763658  0.02153097]\n",
      " [-0.93359965  0.31460899 -0.39179542 -0.18194947  0.61892684 -0.28944032]\n",
      " [-0.80648404 -0.294562   -0.26833431  0.03199625  0.8636983   0.92361829]\n",
      " [-0.03824944 -0.73779896  0.60944005  0.16577166  0.17991599 -0.64923873]]\n",
      "[[3.88916093 3.76521334 3.81640256 3.75924831 3.79942209 3.8875077 ]\n",
      " [3.88826978 3.88400624 3.8847634  3.88385584 3.76212937 3.81211322]\n",
      " [3.77955095 3.87028731 3.88969006 3.81216607 3.85601695 3.86217661]\n",
      " [3.86520337 3.88629732 3.86672475 3.84838904 3.88651791 3.79491343]\n",
      " [3.87975524 3.84122307 3.85641199 3.82711291 3.88691872 3.88966195]\n",
      " [3.77601978 3.87697754 3.86993928 3.88546369 3.84016448 3.87893774]\n",
      " [3.80519607 3.87855216 3.88045492 3.88958994 3.792619   3.77847362]\n",
      " [3.88953347 3.81910806 3.84168147 3.88618752 3.88555838 3.83515616]]\n"
     ]
    }
   ],
   "source": [
    "layer = 1\n",
    "print(net.lyr[layer].bias_vector.mu)\n",
    "print(net.lyr[layer].bias_vector.sigma)\n",
    "print(net.weight_matrix[layer - 1].mu)\n",
    "print(net.weight_matrix[layer - 1].sigma)"
   ]
  },
  {
   "cell_type": "code",
   "execution_count": 67,
   "metadata": {},
   "outputs": [
    {
     "data": {
      "text/plain": [
       "array([[-0.06603741, -0.9762695 , -0.75166824,  0.99899238, -0.83326193,\n",
       "         0.13121561],\n",
       "       [-0.10626292,  0.21078242,  0.19633394, -0.21353558,  0.98808716,\n",
       "         0.7731277 ],\n",
       "       [-0.9191998 , -0.3883424 ,  0.01565005, -0.77286706,  0.5109471 ,\n",
       "        -0.46208819],\n",
       "       [ 0.4360465 ,  0.16317722,  0.42234268,  0.56553996,  0.15783595,\n",
       "        -0.85356061],\n",
       "       [-0.27826778,  0.61232261,  0.50795689,  0.69508303,  0.14763658,\n",
       "         0.02153097],\n",
       "       [-0.93359965,  0.31460899, -0.39179542, -0.18194947,  0.61892684,\n",
       "        -0.28944032],\n",
       "       [-0.80648404, -0.294562  , -0.26833431,  0.03199625,  0.8636983 ,\n",
       "         0.92361829],\n",
       "       [-0.03824944, -0.73779896,  0.60944005,  0.16577166,  0.17991599,\n",
       "        -0.64923873]])"
      ]
     },
     "execution_count": 67,
     "metadata": {},
     "output_type": "execute_result"
    }
   ],
   "source": [
    "net.weight_matrix[0].mu"
   ]
  },
  {
   "cell_type": "code",
   "execution_count": 68,
   "metadata": {},
   "outputs": [
    {
     "data": {
      "image/png": "[encoded data removed]",
      "text/plain": [
       "<Figure size 432x288 with 1 Axes>"
      ]
     },
     "metadata": {
      "needs_background": "light"
     },
     "output_type": "display_data"
    }
   ],
   "source": [
    "plt.plot(net.cost_history);"
   ]
  },
  {
   "cell_type": "code",
   "execution_count": 69,
   "metadata": {},
   "outputs": [
    {
     "name": "stdout",
     "output_type": "stream",
     "text": [
      "Training Set\n",
      "Cross Entropy = 3.8762760154825724\n",
      "     Accuracy = 12.0%\n"
     ]
    }
   ],
   "source": [
    "print('Training Set')\n",
    "CE = net.Evaluate(train[0], train[1])\n",
    "accuracy = net.ClassificationAccuracy(train[0], train[1])\n",
    "print('Cross Entropy = '+str(CE))\n",
    "print('     Accuracy = '+str(accuracy*100.)+'%')"
   ]
  },
  {
   "cell_type": "code",
   "execution_count": 70,
   "metadata": {},
   "outputs": [
    {
     "name": "stdout",
     "output_type": "stream",
     "text": [
      "Test Set\n",
      "Cross Entropy = 3.728911009229299\n",
      "     Accuracy = 15.000000000000002%\n"
     ]
    }
   ],
   "source": [
    "print('Test Set')\n",
    "CE = net.Evaluate(test[0], test[1])\n",
    "accuracy = net.ClassificationAccuracy(test[0], test[1])\n",
    "print('Cross Entropy = '+str(CE))\n",
    "print('     Accuracy = '+str(accuracy*100.)+'%')"
   ]
  },
  {
   "cell_type": "code",
   "execution_count": null,
   "metadata": {},
   "outputs": [],
   "source": []
  }
 ],
 "metadata": {
  "kernelspec": {
   "display_name": "Python 3",
   "language": "python",
   "name": "python3"
  },
  "language_info": {
   "codemirror_mode": {
    "name": "ipython",
    "version": 3
   },
   "file_extension": ".py",
   "mimetype": "text/x-python",
   "name": "python",
   "nbconvert_exporter": "python",
   "pygments_lexer": "ipython3",
   "version": "3.7.4"
  }
 },
 "nbformat": 4,
 "nbformat_minor": 4
}

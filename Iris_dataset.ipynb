{
 "cells": [
  {
   "cell_type": "code",
   "execution_count": 1,
   "metadata": {},
   "outputs": [],
   "source": [
    "import pandas as pd\n",
    "import numpy as np\n",
    "from Class_Network import *\n",
    "import matplotlib.pyplot as plt\n",
    "from mpl_toolkits.mplot3d import Axes3D\n",
    "from sklearn import datasets\n",
    "from sklearn.decomposition import PCA\n",
    "import copy\n",
    "\n",
    "# import some data to play with\n",
    "#iris.data shape of (150,4)\n",
    "iris = datasets.load_iris()\n",
    "X = iris.data[:, :2]  # we only take the first two features.\n",
    "y = iris.target"
   ]
  },
  {
   "cell_type": "code",
   "execution_count": 2,
   "metadata": {},
   "outputs": [],
   "source": [
    "from sklearn.model_selection import train_test_split\n",
    "from sklearn.model_selection import KFold\n",
    "data = datasets.load_iris()\n",
    "y = pd.get_dummies(data.target).values\n",
    "X = data.data\n",
    "X_train, X_test, y_train, y_test = train_test_split(X, y, test_size = 0.33, random_state = 80)\n"
   ]
  },
  {
   "cell_type": "code",
   "execution_count": 3,
   "metadata": {},
   "outputs": [],
   "source": [
    "nnn = 3 # number of splits selected...\n",
    "kf = KFold(nnn)\n",
    "kf.get_n_splits(X_train)\n",
    "kf.split(X_train)\n",
    "Xtr = []\n",
    "Xtest = []\n",
    "ytr = []\n",
    "ytest = []\n",
    "for train_index, test_index in kf.split(X_train):\n",
    "    #train\n",
    "    #print(\"TRAIN:\", train_index, \"TEST:\", test_index)\n",
    "    Xtr.append(X_train[train_index])\n",
    "    ytr.append(y_train[train_index])\n",
    "    #test\n",
    "    Xtest.append(X_train[test_index])\n",
    "    ytest.append(y_train[test_index])\n",
    "n_input = np.shape(X_train)[1]\n",
    "n_output = np.shape(y_test)[1]"
   ]
  },
  {
   "cell_type": "code",
   "execution_count": 4,
   "metadata": {},
   "outputs": [
    {
     "ename": "ValueError",
     "evalue": "setting an array element with a sequence.",
     "output_type": "error",
     "traceback": [
      "\u001b[0;31m---------------------------------------------------------------------------\u001b[0m",
      "\u001b[0;31mTypeError\u001b[0m                                 Traceback (most recent call last)",
      "\u001b[0;31mTypeError\u001b[0m: float() argument must be a string or a number, not 'tuple'",
      "\nThe above exception was the direct cause of the following exception:\n",
      "\u001b[0;31mValueError\u001b[0m                                Traceback (most recent call last)",
      "\u001b[0;32m<ipython-input-4-c566aa5d5da2>\u001b[0m in \u001b[0;36m<module>\u001b[0;34m\u001b[0m\n\u001b[1;32m      9\u001b[0m         \u001b[0mCE\u001b[0m \u001b[0;34m=\u001b[0m \u001b[0mnet\u001b[0m\u001b[0;34m.\u001b[0m\u001b[0mEvaluate\u001b[0m\u001b[0;34m(\u001b[0m\u001b[0mXtr\u001b[0m\u001b[0;34m[\u001b[0m\u001b[0mi\u001b[0m\u001b[0;34m]\u001b[0m\u001b[0;34m,\u001b[0m \u001b[0mytr\u001b[0m\u001b[0;34m[\u001b[0m\u001b[0mi\u001b[0m\u001b[0;34m]\u001b[0m\u001b[0;34m)\u001b[0m\u001b[0;34m\u001b[0m\u001b[0;34m\u001b[0m\u001b[0m\n\u001b[1;32m     10\u001b[0m         \u001b[0maccuracy\u001b[0m \u001b[0;34m=\u001b[0m \u001b[0mnet\u001b[0m\u001b[0;34m.\u001b[0m\u001b[0mClassificationAccuracy\u001b[0m\u001b[0;34m(\u001b[0m\u001b[0mXtr\u001b[0m\u001b[0;34m[\u001b[0m\u001b[0mi\u001b[0m\u001b[0;34m]\u001b[0m\u001b[0;34m,\u001b[0m \u001b[0mytr\u001b[0m\u001b[0;34m[\u001b[0m\u001b[0mi\u001b[0m\u001b[0;34m]\u001b[0m\u001b[0;34m)\u001b[0m\u001b[0;34m\u001b[0m\u001b[0;34m\u001b[0m\u001b[0m\n\u001b[0;32m---> 11\u001b[0;31m         \u001b[0macc_vec\u001b[0m\u001b[0;34m[\u001b[0m\u001b[0;36m0\u001b[0m\u001b[0;34m]\u001b[0m\u001b[0;34m[\u001b[0m\u001b[0mi\u001b[0m\u001b[0;34m]\u001b[0m \u001b[0;34m=\u001b[0m \u001b[0maccuracy\u001b[0m\u001b[0;34m\u001b[0m\u001b[0;34m\u001b[0m\u001b[0m\n\u001b[0m\u001b[1;32m     12\u001b[0m         \u001b[0mCE\u001b[0m \u001b[0;34m=\u001b[0m \u001b[0mnet\u001b[0m\u001b[0;34m.\u001b[0m\u001b[0mEvaluate\u001b[0m\u001b[0;34m(\u001b[0m\u001b[0mXtest\u001b[0m\u001b[0;34m[\u001b[0m\u001b[0mi\u001b[0m\u001b[0;34m]\u001b[0m\u001b[0;34m,\u001b[0m \u001b[0mytest\u001b[0m\u001b[0;34m[\u001b[0m\u001b[0mi\u001b[0m\u001b[0;34m]\u001b[0m\u001b[0;34m)\u001b[0m\u001b[0;34m\u001b[0m\u001b[0;34m\u001b[0m\u001b[0m\n\u001b[1;32m     13\u001b[0m         \u001b[0maccuracy\u001b[0m \u001b[0;34m=\u001b[0m \u001b[0mnet\u001b[0m\u001b[0;34m.\u001b[0m\u001b[0mClassificationAccuracy\u001b[0m\u001b[0;34m(\u001b[0m\u001b[0mXtest\u001b[0m\u001b[0;34m[\u001b[0m\u001b[0mi\u001b[0m\u001b[0;34m]\u001b[0m\u001b[0;34m,\u001b[0m \u001b[0mytest\u001b[0m\u001b[0;34m[\u001b[0m\u001b[0mi\u001b[0m\u001b[0;34m]\u001b[0m\u001b[0;34m)\u001b[0m\u001b[0;34m\u001b[0m\u001b[0;34m\u001b[0m\u001b[0m\n",
      "\u001b[0;31mValueError\u001b[0m: setting an array element with a sequence."
     ]
    }
   ],
   "source": [
    "acc_vec = np.zeros((2,len(Xtest)))\n",
    "tr_attempt = [0, 0.2, 0.4, 0.5, 0.6, 0.8, 1] # threshold attempt\n",
    "acc_global = np.zeros((2,len(tr_attempt))) # accuracy\n",
    "\n",
    "for j in range(len(tr_attempt)): # looping over thresholds\n",
    "    for i in range(len(Xtest)): # looping over training folds\n",
    "        net = Network([n_input, 3, n_output], type='classifier', prior_dist_weight = ['gaussian','gaussian'], prior_dist_bias = ['gaussian', 'gaussian','gaussian'])\n",
    "        net.Learn(Xtr[i], ytr[i], epochs=200, lrate=1, times = 1000, threshold = tr_attempt[j], bootstrap = False, progress=True)\n",
    "        CE = net.Evaluate(Xtr[i], ytr[i])\n",
    "        accuracy = net.ClassificationAccuracy(Xtr[i], ytr[i])\n",
    "        acc_vec[0][i] = accuracy\n",
    "        CE = net.Evaluate(Xtest[i], ytest[i])\n",
    "        accuracy = net.ClassificationAccuracy(Xtest[i], ytest[i])\n",
    "        acc_vec[1][i] = accuracy\n",
    "    #print(acc_vec[0].sum() / len(Xtest))\n",
    "    #print(j)\n",
    "    acc_global[0][j] = acc_vec[0].sum() / len(Xtest)\n",
    "    acc_global[1][j] = acc_vec[1].sum() / len(Xtest)\n",
    "    \n",
    "plt.figure(0)\n",
    "plt.plot(tr_attempt,acc_global[0])\n",
    "plt.title(\"Training accuracy vs. threshold\") #training folds accuracy\n",
    "\n",
    "plt.figure(1)\n",
    "plt.plot(tr_attempt,acc_global[1])\n",
    "plt.title(\"Test accuracy vs. threshold\") #test folds accuracy"
   ]
  },
  {
   "cell_type": "code",
   "execution_count": null,
   "metadata": {},
   "outputs": [],
   "source": [
    "# Evaluate it before training\n",
    "#prior dist for weight and bias, is the number of layers..\n",
    "net = Network([n_input, 3, np.shape(y_train)[1]], type='classifier', prior_dist_weight = ['gaussian','gaussian'], prior_dist_bias = ['gaussian','gaussian'])\n",
    "#net_boot = copy.deepcopy(net) #same initiliazed weights therefore..\n",
    "net_boot =  Network([n_input, 3, np.shape(y_train)[1]], type='classifier', prior_dist_weight = ['gaussian','gaussian'], prior_dist_bias = ['gaussian','gaussian'])\n",
    "net.Learn(X_train.copy(), y_train.copy(), epochs=300, lrate=1, times = 1000, threshold = 0, bootstrap = False, progress=True)\n",
    "net_boot.Learn(X_train.copy(), y_train.copy(), epochs=300, lrate=1, times = 1000, threshold = 0, bootstrap = True, progress=True)\n",
    "\n",
    "CE = net.Evaluate(X_train, y_train)\n",
    "accuracy = net.ClassificationAccuracy(X_train, y_train)\n",
    "print('Training Set: Gaussian')\n",
    "print('Cross Entropy = '+str(CE))\n",
    "print('     Accuracy = '+str(accuracy*100.)+'%')\n",
    "\n",
    "CE = net_boot.Evaluate(X_train, y_train)\n",
    "accuracy = net_boot.ClassificationAccuracy(X_train, y_train)\n",
    "print('Training Set: Bootstrap')\n",
    "print('Cross Entropy = '+str(CE))\n",
    "print('     Accuracy = '+str(accuracy*100.)+'%')\n",
    "\n",
    "print('Test Set: Gaussian')\n",
    "CE = net.Evaluate(X_test, y_test)\n",
    "accuracy = net.ClassificationAccuracy(X_test, y_test)\n",
    "print('Cross Entropy = '+str(CE))\n",
    "print('     Accuracy = '+str(accuracy*100.)+'%')\n",
    "\n",
    "print('Test Set: Bootstrap')\n",
    "CE = net_boot.Evaluate(X_test, y_test)\n",
    "accuracy = net_boot.ClassificationAccuracy(X_test, y_test)\n",
    "print('Cross Entropy = '+str(CE))\n",
    "print('     Accuracy = '+str(accuracy*100.)+'%')"
   ]
  },
  {
   "cell_type": "code",
   "execution_count": null,
   "metadata": {},
   "outputs": [],
   "source": [
    "print(net.weight_matrix[0].sigma)\n",
    "print(net_boot.weight_matrix[1].sigma)"
   ]
  },
  {
   "cell_type": "code",
   "execution_count": 4,
   "metadata": {},
   "outputs": [],
   "source": [
    "net = Network([n_input, 3, np.shape(y_train)[1]], type='classifier', prior_dist_weight = ['gaussian','gaussian'], prior_dist_bias = ['gaussian','gaussian'])\n",
    "net.Learn(X_train, y_train, epochs=200, lrate=1, times = 1000, threshold = 0, bootstrap = True, progress=True)\n"
   ]
  },
  {
   "cell_type": "code",
   "execution_count": 5,
   "metadata": {},
   "outputs": [
    {
     "name": "stdout",
     "output_type": "stream",
     "text": [
      "[[1. 1. 1.]\n",
      " [1. 1. 1.]\n",
      " [1. 1. 1.]\n",
      " [1. 1. 1.]]\n",
      "[[1. 1. 1.]\n",
      " [1. 1. 1.]\n",
      " [1. 1. 1.]]\n",
      "Training Set: Bootstrap\n",
      "Cross Entropy = 0.9633835466961471\n"
     ]
    },
    {
     "ename": "TypeError",
     "evalue": "can't multiply sequence by non-int of type 'float'",
     "output_type": "error",
     "traceback": [
      "\u001b[0;31m---------------------------------------------------------------------------\u001b[0m",
      "\u001b[0;31mTypeError\u001b[0m                                 Traceback (most recent call last)",
      "\u001b[0;32m<ipython-input-5-2b8a0743c8f5>\u001b[0m in \u001b[0;36m<module>\u001b[0;34m\u001b[0m\n\u001b[1;32m      6\u001b[0m \u001b[0mprint\u001b[0m\u001b[0;34m(\u001b[0m\u001b[0;34m'Training Set: Bootstrap'\u001b[0m\u001b[0;34m)\u001b[0m\u001b[0;34m\u001b[0m\u001b[0;34m\u001b[0m\u001b[0m\n\u001b[1;32m      7\u001b[0m \u001b[0mprint\u001b[0m\u001b[0;34m(\u001b[0m\u001b[0;34m'Cross Entropy = '\u001b[0m\u001b[0;34m+\u001b[0m\u001b[0mstr\u001b[0m\u001b[0;34m(\u001b[0m\u001b[0mCE\u001b[0m\u001b[0;34m)\u001b[0m\u001b[0;34m)\u001b[0m\u001b[0;34m\u001b[0m\u001b[0;34m\u001b[0m\u001b[0m\n\u001b[0;32m----> 8\u001b[0;31m \u001b[0mprint\u001b[0m\u001b[0;34m(\u001b[0m\u001b[0;34m'     Accuracy = '\u001b[0m\u001b[0;34m+\u001b[0m\u001b[0mstr\u001b[0m\u001b[0;34m(\u001b[0m\u001b[0maccuracy\u001b[0m\u001b[0;34m*\u001b[0m\u001b[0;36m100.\u001b[0m\u001b[0;34m)\u001b[0m\u001b[0;34m+\u001b[0m\u001b[0;34m'%'\u001b[0m\u001b[0;34m)\u001b[0m \u001b[0;31m# 92\u001b[0m\u001b[0;34m\u001b[0m\u001b[0;34m\u001b[0m\u001b[0m\n\u001b[0m\u001b[1;32m      9\u001b[0m \u001b[0;34m\u001b[0m\u001b[0m\n\u001b[1;32m     10\u001b[0m \u001b[0mprint\u001b[0m\u001b[0;34m(\u001b[0m\u001b[0;34m'Test Set: Bootstrap'\u001b[0m\u001b[0;34m)\u001b[0m\u001b[0;34m\u001b[0m\u001b[0;34m\u001b[0m\u001b[0m\n",
      "\u001b[0;31mTypeError\u001b[0m: can't multiply sequence by non-int of type 'float'"
     ]
    }
   ],
   "source": [
    "print(net.weight_matrix[0].sigma)\n",
    "print(net.weight_matrix[1].sigma)\n",
    "\n",
    "CE = net.Evaluate(X_train, y_train)\n",
    "accuracy = net.ClassificationAccuracy(X_train, y_train)\n",
    "print('Training Set: Bootstrap')\n",
    "print('Cross Entropy = '+str(CE))\n",
    "print('     Accuracy = '+str(accuracy*100.)+'%') # 92\n",
    "\n",
    "print('Test Set: Bootstrap')\n",
    "CE = net.Evaluate(X_test, y_test)\n",
    "accuracy = net.ClassificationAccuracy(X_test, y_test)\n",
    "print('Cross Entropy = '+str(CE))\n",
    "print('     Accuracy = '+str(accuracy*100.)+'%') #  78"
   ]
  },
  {
   "cell_type": "code",
   "execution_count": null,
   "metadata": {},
   "outputs": [],
   "source": [
    "plt.plot(net.cost_history);\n",
    "#with gaussian train accuary=, test accuracy=)"
   ]
  },
  {
   "cell_type": "code",
   "execution_count": null,
   "metadata": {},
   "outputs": [],
   "source": [
    "plt.plot(net_boot.cost_history);\n",
    "#with bootstrap"
   ]
  },
  {
   "cell_type": "code",
   "execution_count": null,
   "metadata": {},
   "outputs": [],
   "source": [
    "def OutputHist(net, samples, bootbool, test):\n",
    "    '''\n",
    "        Given a network and a test data point will produce histograms of the output \n",
    "        at each neuron\n",
    "\n",
    "        Inputs:\n",
    "          net: The trained network object.\n",
    "          samples: The number of samplings of weights and biases used.\n",
    "          bootbool: Boolean value, whether bootstrap is used or not.\n",
    "          test: A test data point (a single data point).\n",
    "          \n",
    "    '''\n",
    "    #samples = 1000 # number of times to sample weights and biases\n",
    "    n = np.shape(net.lyr[-1].h)[1] # number of output nodes\n",
    "    for i in range(0, np.shape(net.lyr[-1].h)[1]): #loop over output nodes\n",
    "        y_stack = net.FeedForward(test,bootbool) # first sampling\n",
    "        for j in range(0, samples-1): # loop over samplings of W.. and b.. to produce output histogram\n",
    "            y = net.FeedForward(test,bootbool) #data, bootstrap boolean. Output -> shape is (samples, # of nodes)\n",
    "            y_stack = np.vstack((y_stack,y))\n",
    "\n",
    "    #Plot output distributions\n",
    "    for i in range(0, n):\n",
    "        plt.figure(i,figsize=(8,8))\n",
    "        plt.hist(y_stack[:,i],bins =50,range=(0,1))\n",
    "        l,r = plt.xlim((0,1))\n",
    "        plt.title('%d Output Neuron'%(i+1))"
   ]
  },
  {
   "cell_type": "code",
   "execution_count": null,
   "metadata": {},
   "outputs": [],
   "source": [
    "OutputHist(net, samples=500, bootbool=False, test=X_test[15]) #y_test"
   ]
  },
  {
   "cell_type": "code",
   "execution_count": null,
   "metadata": {},
   "outputs": [],
   "source": [
    "y_test[15]"
   ]
  }
 ],
 "metadata": {
  "kernelspec": {
   "display_name": "Python 3",
   "language": "python",
   "name": "python3"
  },
  "language_info": {
   "codemirror_mode": {
    "name": "ipython",
    "version": 3
   },
   "file_extension": ".py",
   "mimetype": "text/x-python",
   "name": "python",
   "nbconvert_exporter": "python",
   "pygments_lexer": "ipython3",
   "version": "3.7.1"
  }
 },
 "nbformat": 4,
 "nbformat_minor": 4
}
